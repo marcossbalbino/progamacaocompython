{
  "nbformat": 4,
  "nbformat_minor": 0,
  "metadata": {
    "colab": {
      "provenance": [],
      "authorship_tag": "ABX9TyOFpjJziO4/G/xV6l7zUC4W",
      "include_colab_link": true
    },
    "kernelspec": {
      "name": "python3",
      "display_name": "Python 3"
    },
    "language_info": {
      "name": "python"
    }
  },
  "cells": [
    {
      "cell_type": "markdown",
      "metadata": {
        "id": "view-in-github",
        "colab_type": "text"
      },
      "source": [
        "<a href=\"https://colab.research.google.com/github/marcossbalbino/progamacaocompython/blob/main/ResolucaoprovaLacos.ipynb\" target=\"_parent\"><img src=\"https://colab.research.google.com/assets/colab-badge.svg\" alt=\"Open In Colab\"/></a>"
      ]
    },
    {
      "cell_type": "code",
      "execution_count": 5,
      "metadata": {
        "colab": {
          "base_uri": "https://localhost:8080/"
        },
        "id": "-UNR3okPM-A8",
        "outputId": "9b43592b-ff57-477f-8e34-7fa7359e7fb0"
      },
      "outputs": [
        {
          "output_type": "stream",
          "name": "stdout",
          "text": [
            "14\n",
            "Digite um número entre 1 e 100: 1\n",
            "Você tem 19 pontos\n",
            "Você errou! O número secreto é maior que 1\n",
            "Você está frio!\n",
            "Digite um número entre 1 e 100: 13\n",
            "Você tem 18 pontos\n",
            "Você errou! O número secreto é maior que 13\n",
            "Você está quente!\n",
            "Digite um número entre 1 e 100: 15\n",
            "Você tem 17 pontos\n",
            "Você errou! O número secreto é menor que 15\n",
            "Você está quente!\n",
            "Digite um número entre 1 e 100: 14\n",
            "Você tem 16 pontos\n",
            "Você acertou!\n",
            "Você tentou 4 vezes\n"
          ]
        }
      ],
      "source": [
        "import random\n",
        "secreto = random.randint(1, 100)\n",
        "resp = 0\n",
        "contador = 0\n",
        "pont = 20\n",
        "print(secreto)\n",
        "while resp != secreto:\n",
        "    resp = int(input(\"Digite um número entre 1 e 100: \"))\n",
        "    contador += 1\n",
        "    pont -= 1\n",
        "    print(\"Você tem\", pont, \"pontos\")\n",
        "    if pont == 0:\n",
        "      print(\"Você não tem mais tentativas!\")\n",
        "      break\n",
        "    if resp < 1 or resp > 100:\n",
        "      print(\"Você deve digitar um número entre 1 e 100!\")\n",
        "      continue\n",
        "    if resp < secreto:\n",
        "      print(\"Você errou! O número secreto é maior que\", resp)\n",
        "      calc = secreto - resp\n",
        "      if calc <= 5:\n",
        "        print(\"Você está quente!\")\n",
        "      elif calc <= 10 and calc > 5:\n",
        "        print(\"Você está esquentando!\")\n",
        "      elif calc > 10 and calc <= 20:\n",
        "        print(\"Você está frio!\")\n",
        "      elif calc > 20:\n",
        "        print(\"Você está congelando\")\n",
        "    if resp > secreto:\n",
        "      print(\"Você errou! O número secreto é menor que\", resp)\n",
        "      calc = resp - secreto\n",
        "      if calc < 5:\n",
        "        print(\"Você está quente!\")\n",
        "      elif calc < 10 and calc > 5:\n",
        "        print(\"Você está esquentando!\")\n",
        "      elif calc > 10 and calc < 20:\n",
        "        print(\"Você está frio!\")\n",
        "      elif calc > 20:\n",
        "        print(\"Você está congelando\")\n",
        "      continue\n",
        "    if resp == secreto:\n",
        "        print(\"Você acertou!\")\n",
        "        print(\"Você tentou\", contador, \"vezes\")\n",
        "        break"
      ]
    },
    {
      "cell_type": "markdown",
      "source": [
        "2)Crie um programa que simula um caixa de supermercado. O usuário deve inserir o preço de cada item comprado e, após inserir todos os itens, o programa deve calcular o total da compra e aplicar um desconto de 5%, se o valor for pago a vista, caso contrário cobrança normal. Execute o programa até o usuário disser que deseja continuar."
      ],
      "metadata": {
        "id": "ut_JXDWyPL8U"
      }
    },
    {
      "cell_type": "code",
      "source": [
        "total = 0\n",
        "print(\"Digite suas compras!\")\n",
        "print(\"Digite 0 para sair\")\n",
        "while True:\n",
        "  print(\"Valor:\")\n",
        "  valor = int(input())\n",
        "  if valor == 0:\n",
        "    break\n",
        "  total += valor\n",
        "print(\"Qual o pagamento?\")\n",
        "print(\"1 - A vista\")\n",
        "print(\"2 - No cartão\")\n",
        "pag = float(input())\n",
        "if pag == 1:\n",
        "  vista = total*0.95\n",
        "  print(\"O valor a ser pago é\", vista)\n",
        "elif pag == 2:\n",
        "  cartao = total*1\n",
        "  print(\"O valor a ser pago é\", cartao)\n",
        "else:\n",
        "  print(\"Digite um valor válido!\")"
      ],
      "metadata": {
        "colab": {
          "base_uri": "https://localhost:8080/"
        },
        "id": "r1w8vgaDPsst",
        "outputId": "e903c9df-ced5-439c-eecb-c3d1b0f37a15"
      },
      "execution_count": null,
      "outputs": [
        {
          "output_type": "stream",
          "name": "stdout",
          "text": [
            "Digite suas compras!\n",
            "Digite 0 para sair\n",
            "Valor:\n",
            "10\n",
            "Valor:\n",
            "20\n",
            "Valor:\n"
          ]
        }
      ]
    }
  ]
}